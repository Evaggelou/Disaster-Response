{
  "nbformat": 4,
  "nbformat_minor": 0,
  "metadata": {
    "kernelspec": {
      "display_name": "Python 3",
      "language": "python",
      "name": "python3"
    },
    "language_info": {
      "codemirror_mode": {
        "name": "ipython",
        "version": 3
      },
      "file_extension": ".py",
      "mimetype": "text/x-python",
      "name": "python",
      "nbconvert_exporter": "python",
      "pygments_lexer": "ipython3",
      "version": "3.6.3"
    },
    "colab": {
      "name": "ML Pipeline Preparation.ipynb",
      "provenance": [],
      "machine_shape": "hm",
      "include_colab_link": true
    },
    "accelerator": "GPU"
  },
  "cells": [
    {
      "cell_type": "markdown",
      "metadata": {
        "id": "view-in-github",
        "colab_type": "text"
      },
      "source": [
        "<a href=\"https://colab.research.google.com/github/Evaggelou/Disaster-Response/blob/master/ML_Pipeline_Preparation.ipynb\" target=\"_parent\"><img src=\"https://colab.research.google.com/assets/colab-badge.svg\" alt=\"Open In Colab\"/></a>"
      ]
    },
    {
      "cell_type": "markdown",
      "metadata": {
        "id": "888_XIAydVW6"
      },
      "source": [
        "# ML Pipeline Preparation\n",
        "Follow the instructions below to help you create your ML pipeline.\n"
      ]
    },
    {
      "cell_type": "markdown",
      "metadata": {
        "id": "xBdyp7QwtuwX"
      },
      "source": [
        "### 1. Import libraries and load data from database.\r\n",
        "- Import Python libraries\r\n",
        "- Load dataset from database with [`read_sql_table`](https://pandas.pydata.org/pandas-docs/stable/generated/pandas.read_sql_table.html)\r\n",
        "- Define feature and target variables X and Y"
      ]
    },
    {
      "cell_type": "code",
      "metadata": {
        "colab": {
          "base_uri": "https://localhost:8080/"
        },
        "id": "dkr-pNhgdVXB",
        "outputId": "50d634e7-f4b6-4e59-c027-47c09c7f8e01"
      },
      "source": [
        "# import libraries\n",
        "import numpy as np\n",
        "import pandas as pd\n",
        "import re\n",
        "from sqlalchemy import create_engine\n",
        "import matplotlib.pyplot as plt\n",
        "\n",
        "import nltk\n",
        "nltk.download('punkt')\n",
        "nltk.download('wordnet')\n",
        "nltk.download('stopwords')\n",
        "from nltk.tokenize import word_tokenize\n",
        "from nltk.stem.porter import PorterStemmer\n",
        "from nltk.stem.wordnet import WordNetLemmatizer\n",
        "from nltk.corpus import stopwords\n",
        "\n",
        "from sklearn.pipeline import Pipeline\n",
        "from sklearn.model_selection import train_test_split\n",
        "from sklearn.feature_extraction.text import CountVectorizer, TfidfTransformer\n",
        "from sklearn.multioutput import MultiOutputClassifier\n",
        "from sklearn.ensemble import AdaBoostClassifier\n",
        "from sklearn.metrics import classification_report\n",
        "from sklearn.model_selection import GridSearchCV\n",
        "import pickle"
      ],
      "execution_count": 1,
      "outputs": [
        {
          "output_type": "stream",
          "text": [
            "[nltk_data] Downloading package punkt to /root/nltk_data...\n",
            "[nltk_data]   Unzipping tokenizers/punkt.zip.\n",
            "[nltk_data] Downloading package wordnet to /root/nltk_data...\n",
            "[nltk_data]   Unzipping corpora/wordnet.zip.\n",
            "[nltk_data] Downloading package stopwords to /root/nltk_data...\n",
            "[nltk_data]   Unzipping corpora/stopwords.zip.\n"
          ],
          "name": "stdout"
        }
      ]
    },
    {
      "cell_type": "code",
      "metadata": {
        "colab": {
          "base_uri": "https://localhost:8080/"
        },
        "id": "CIldMQE-dW_i",
        "outputId": "f1414d14-657d-43e4-d801-6bc684055b9c"
      },
      "source": [
        "from google.colab import drive\r\n",
        "\r\n",
        "# Import the Files from google drive\r\n",
        "drive.mount('/content/drive')"
      ],
      "execution_count": 2,
      "outputs": [
        {
          "output_type": "stream",
          "text": [
            "Mounted at /content/drive\n"
          ],
          "name": "stdout"
        }
      ]
    },
    {
      "cell_type": "code",
      "metadata": {
        "colab": {
          "base_uri": "https://localhost:8080/"
        },
        "id": "9XRmYMXZdVXD",
        "outputId": "6e3bc5ec-176c-45a0-caee-8082c993876b"
      },
      "source": [
        "# load data from database\n",
        "engine = create_engine('sqlite:////content/drive/MyDrive/Udacity/DisasterResponse.db')\n",
        "engine.table_names()"
      ],
      "execution_count": 3,
      "outputs": [
        {
          "output_type": "execute_result",
          "data": {
            "text/plain": [
              "['Message']"
            ]
          },
          "metadata": {
            "tags": []
          },
          "execution_count": 3
        }
      ]
    },
    {
      "cell_type": "code",
      "metadata": {
        "colab": {
          "base_uri": "https://localhost:8080/",
          "height": 629
        },
        "id": "j8G1mz7odVXE",
        "outputId": "ee20ab89-8c62-4462-cb41-87bf66865cc3"
      },
      "source": [
        "df = pd.read_sql('SELECT * FROM Message', engine)\n",
        "df.head()"
      ],
      "execution_count": 4,
      "outputs": [
        {
          "output_type": "execute_result",
          "data": {
            "text/html": [
              "<div>\n",
              "<style scoped>\n",
              "    .dataframe tbody tr th:only-of-type {\n",
              "        vertical-align: middle;\n",
              "    }\n",
              "\n",
              "    .dataframe tbody tr th {\n",
              "        vertical-align: top;\n",
              "    }\n",
              "\n",
              "    .dataframe thead th {\n",
              "        text-align: right;\n",
              "    }\n",
              "</style>\n",
              "<table border=\"1\" class=\"dataframe\">\n",
              "  <thead>\n",
              "    <tr style=\"text-align: right;\">\n",
              "      <th></th>\n",
              "      <th>index</th>\n",
              "      <th>id</th>\n",
              "      <th>message</th>\n",
              "      <th>original</th>\n",
              "      <th>genre</th>\n",
              "      <th>related</th>\n",
              "      <th>request</th>\n",
              "      <th>offer</th>\n",
              "      <th>aid_related</th>\n",
              "      <th>medical_help</th>\n",
              "      <th>medical_products</th>\n",
              "      <th>search_and_rescue</th>\n",
              "      <th>security</th>\n",
              "      <th>military</th>\n",
              "      <th>child_alone</th>\n",
              "      <th>water</th>\n",
              "      <th>food</th>\n",
              "      <th>shelter</th>\n",
              "      <th>clothing</th>\n",
              "      <th>money</th>\n",
              "      <th>missing_people</th>\n",
              "      <th>refugees</th>\n",
              "      <th>death</th>\n",
              "      <th>other_aid</th>\n",
              "      <th>infrastructure_related</th>\n",
              "      <th>transport</th>\n",
              "      <th>buildings</th>\n",
              "      <th>electricity</th>\n",
              "      <th>tools</th>\n",
              "      <th>hospitals</th>\n",
              "      <th>shops</th>\n",
              "      <th>aid_centers</th>\n",
              "      <th>other_infrastructure</th>\n",
              "      <th>weather_related</th>\n",
              "      <th>floods</th>\n",
              "      <th>storm</th>\n",
              "      <th>fire</th>\n",
              "      <th>earthquake</th>\n",
              "      <th>cold</th>\n",
              "      <th>other_weather</th>\n",
              "      <th>direct_report</th>\n",
              "    </tr>\n",
              "  </thead>\n",
              "  <tbody>\n",
              "    <tr>\n",
              "      <th>0</th>\n",
              "      <td>0</td>\n",
              "      <td>2</td>\n",
              "      <td>Weather update - a cold front from Cuba that c...</td>\n",
              "      <td>Un front froid se retrouve sur Cuba ce matin. ...</td>\n",
              "      <td>direct</td>\n",
              "      <td>1</td>\n",
              "      <td>0</td>\n",
              "      <td>0</td>\n",
              "      <td>0</td>\n",
              "      <td>0</td>\n",
              "      <td>0</td>\n",
              "      <td>0</td>\n",
              "      <td>0</td>\n",
              "      <td>0</td>\n",
              "      <td>0</td>\n",
              "      <td>0</td>\n",
              "      <td>0</td>\n",
              "      <td>0</td>\n",
              "      <td>0</td>\n",
              "      <td>0</td>\n",
              "      <td>0</td>\n",
              "      <td>0</td>\n",
              "      <td>0</td>\n",
              "      <td>0</td>\n",
              "      <td>0</td>\n",
              "      <td>0</td>\n",
              "      <td>0</td>\n",
              "      <td>0</td>\n",
              "      <td>0</td>\n",
              "      <td>0</td>\n",
              "      <td>0</td>\n",
              "      <td>0</td>\n",
              "      <td>0</td>\n",
              "      <td>0</td>\n",
              "      <td>0</td>\n",
              "      <td>0</td>\n",
              "      <td>0</td>\n",
              "      <td>0</td>\n",
              "      <td>0</td>\n",
              "      <td>0</td>\n",
              "      <td>0</td>\n",
              "    </tr>\n",
              "    <tr>\n",
              "      <th>1</th>\n",
              "      <td>1</td>\n",
              "      <td>7</td>\n",
              "      <td>Is the Hurricane over or is it not over</td>\n",
              "      <td>Cyclone nan fini osinon li pa fini</td>\n",
              "      <td>direct</td>\n",
              "      <td>1</td>\n",
              "      <td>0</td>\n",
              "      <td>0</td>\n",
              "      <td>1</td>\n",
              "      <td>0</td>\n",
              "      <td>0</td>\n",
              "      <td>0</td>\n",
              "      <td>0</td>\n",
              "      <td>0</td>\n",
              "      <td>0</td>\n",
              "      <td>0</td>\n",
              "      <td>0</td>\n",
              "      <td>0</td>\n",
              "      <td>0</td>\n",
              "      <td>0</td>\n",
              "      <td>0</td>\n",
              "      <td>0</td>\n",
              "      <td>0</td>\n",
              "      <td>1</td>\n",
              "      <td>0</td>\n",
              "      <td>0</td>\n",
              "      <td>0</td>\n",
              "      <td>0</td>\n",
              "      <td>0</td>\n",
              "      <td>0</td>\n",
              "      <td>0</td>\n",
              "      <td>0</td>\n",
              "      <td>0</td>\n",
              "      <td>1</td>\n",
              "      <td>0</td>\n",
              "      <td>1</td>\n",
              "      <td>0</td>\n",
              "      <td>0</td>\n",
              "      <td>0</td>\n",
              "      <td>0</td>\n",
              "      <td>0</td>\n",
              "    </tr>\n",
              "    <tr>\n",
              "      <th>2</th>\n",
              "      <td>2</td>\n",
              "      <td>8</td>\n",
              "      <td>Looking for someone but no name</td>\n",
              "      <td>Patnm, di Maryani relem pou li banm nouvel li ...</td>\n",
              "      <td>direct</td>\n",
              "      <td>1</td>\n",
              "      <td>0</td>\n",
              "      <td>0</td>\n",
              "      <td>0</td>\n",
              "      <td>0</td>\n",
              "      <td>0</td>\n",
              "      <td>0</td>\n",
              "      <td>0</td>\n",
              "      <td>0</td>\n",
              "      <td>0</td>\n",
              "      <td>0</td>\n",
              "      <td>0</td>\n",
              "      <td>0</td>\n",
              "      <td>0</td>\n",
              "      <td>0</td>\n",
              "      <td>0</td>\n",
              "      <td>0</td>\n",
              "      <td>0</td>\n",
              "      <td>0</td>\n",
              "      <td>0</td>\n",
              "      <td>0</td>\n",
              "      <td>0</td>\n",
              "      <td>0</td>\n",
              "      <td>0</td>\n",
              "      <td>0</td>\n",
              "      <td>0</td>\n",
              "      <td>0</td>\n",
              "      <td>0</td>\n",
              "      <td>0</td>\n",
              "      <td>0</td>\n",
              "      <td>0</td>\n",
              "      <td>0</td>\n",
              "      <td>0</td>\n",
              "      <td>0</td>\n",
              "      <td>0</td>\n",
              "      <td>0</td>\n",
              "    </tr>\n",
              "    <tr>\n",
              "      <th>3</th>\n",
              "      <td>3</td>\n",
              "      <td>9</td>\n",
              "      <td>UN reports Leogane 80-90 destroyed. Only Hospi...</td>\n",
              "      <td>UN reports Leogane 80-90 destroyed. Only Hospi...</td>\n",
              "      <td>direct</td>\n",
              "      <td>1</td>\n",
              "      <td>1</td>\n",
              "      <td>0</td>\n",
              "      <td>1</td>\n",
              "      <td>0</td>\n",
              "      <td>1</td>\n",
              "      <td>0</td>\n",
              "      <td>0</td>\n",
              "      <td>0</td>\n",
              "      <td>0</td>\n",
              "      <td>0</td>\n",
              "      <td>0</td>\n",
              "      <td>0</td>\n",
              "      <td>0</td>\n",
              "      <td>0</td>\n",
              "      <td>0</td>\n",
              "      <td>0</td>\n",
              "      <td>0</td>\n",
              "      <td>1</td>\n",
              "      <td>1</td>\n",
              "      <td>0</td>\n",
              "      <td>1</td>\n",
              "      <td>0</td>\n",
              "      <td>0</td>\n",
              "      <td>1</td>\n",
              "      <td>0</td>\n",
              "      <td>0</td>\n",
              "      <td>0</td>\n",
              "      <td>0</td>\n",
              "      <td>0</td>\n",
              "      <td>0</td>\n",
              "      <td>0</td>\n",
              "      <td>0</td>\n",
              "      <td>0</td>\n",
              "      <td>0</td>\n",
              "      <td>0</td>\n",
              "    </tr>\n",
              "    <tr>\n",
              "      <th>4</th>\n",
              "      <td>4</td>\n",
              "      <td>12</td>\n",
              "      <td>says: west side of Haiti, rest of the country ...</td>\n",
              "      <td>facade ouest d Haiti et le reste du pays aujou...</td>\n",
              "      <td>direct</td>\n",
              "      <td>1</td>\n",
              "      <td>0</td>\n",
              "      <td>0</td>\n",
              "      <td>0</td>\n",
              "      <td>0</td>\n",
              "      <td>0</td>\n",
              "      <td>0</td>\n",
              "      <td>0</td>\n",
              "      <td>0</td>\n",
              "      <td>0</td>\n",
              "      <td>0</td>\n",
              "      <td>0</td>\n",
              "      <td>0</td>\n",
              "      <td>0</td>\n",
              "      <td>0</td>\n",
              "      <td>0</td>\n",
              "      <td>0</td>\n",
              "      <td>0</td>\n",
              "      <td>0</td>\n",
              "      <td>0</td>\n",
              "      <td>0</td>\n",
              "      <td>0</td>\n",
              "      <td>0</td>\n",
              "      <td>0</td>\n",
              "      <td>0</td>\n",
              "      <td>0</td>\n",
              "      <td>0</td>\n",
              "      <td>0</td>\n",
              "      <td>0</td>\n",
              "      <td>0</td>\n",
              "      <td>0</td>\n",
              "      <td>0</td>\n",
              "      <td>0</td>\n",
              "      <td>0</td>\n",
              "      <td>0</td>\n",
              "      <td>0</td>\n",
              "    </tr>\n",
              "  </tbody>\n",
              "</table>\n",
              "</div>"
            ],
            "text/plain": [
              "   index  id  ... other_weather direct_report\n",
              "0      0   2  ...             0             0\n",
              "1      1   7  ...             0             0\n",
              "2      2   8  ...             0             0\n",
              "3      3   9  ...             0             0\n",
              "4      4  12  ...             0             0\n",
              "\n",
              "[5 rows x 41 columns]"
            ]
          },
          "metadata": {
            "tags": []
          },
          "execution_count": 4
        }
      ]
    },
    {
      "cell_type": "code",
      "metadata": {
        "colab": {
          "base_uri": "https://localhost:8080/"
        },
        "id": "2p665cmHdVXE",
        "outputId": "81aac451-95da-4136-9908-875d1bafa545"
      },
      "source": [
        "X = df.message\n",
        "Y = df.loc[:, 'related':'direct_report']\n",
        "\n",
        "print(X.shape)\n",
        "print(Y.shape)"
      ],
      "execution_count": 5,
      "outputs": [
        {
          "output_type": "stream",
          "text": [
            "(26216,)\n",
            "(26216, 36)\n"
          ],
          "name": "stdout"
        }
      ]
    },
    {
      "cell_type": "markdown",
      "metadata": {
        "id": "ON9lbw8QdVXF"
      },
      "source": [
        "### 2. Write a tokenization function to process your text data"
      ]
    },
    {
      "cell_type": "code",
      "metadata": {
        "id": "ERD6kC6vdVXF"
      },
      "source": [
        "def tokenize(text):\n",
        "    \n",
        "    # Normalize text\n",
        "    text = re.sub(r\"[^a-zA-Z0-9]\", \" \", text.lower())\n",
        "    \n",
        "    # tokenize\n",
        "    tokens = word_tokenize(text)\n",
        "    \n",
        "    # lematize & remove stop words\n",
        "    stop_words = stopwords.words(\"english\")\n",
        "    lemmatizer = WordNetLemmatizer()\n",
        "    text_lemmed = [lemmatizer.lemmatize(word, pos='v') for word in tokens if word not in stop_words]\n",
        "    \n",
        "    # Find stems\n",
        "    stemmer = PorterStemmer()\n",
        "    text_stemmed = [stemmer.stem(word) for word in text_lemmed]\n",
        "\n",
        "    return text_stemmed"
      ],
      "execution_count": 12,
      "outputs": []
    },
    {
      "cell_type": "code",
      "metadata": {
        "colab": {
          "base_uri": "https://localhost:8080/"
        },
        "id": "vxFheyIodVXF",
        "outputId": "7d1be5eb-9c34-4c4d-8b95-6deef7d0ee18"
      },
      "source": [
        "i=100\n",
        "print(X[i])\n",
        "tokenize(X[i])"
      ],
      "execution_count": 13,
      "outputs": [
        {
          "output_type": "stream",
          "text": [
            "The message might be saying that they have been stuck in the presidential palace ( pal ) since the same Tuesday ( as the quake ). They need water. The message says they are not finding a little water. No names, no number of people given.\n"
          ],
          "name": "stdout"
        },
        {
          "output_type": "execute_result",
          "data": {
            "text/plain": [
              "['messag',\n",
              " 'might',\n",
              " 'say',\n",
              " 'stick',\n",
              " 'presidenti',\n",
              " 'palac',\n",
              " 'pal',\n",
              " 'sinc',\n",
              " 'tuesday',\n",
              " 'quak',\n",
              " 'need',\n",
              " 'water',\n",
              " 'messag',\n",
              " 'say',\n",
              " 'find',\n",
              " 'littl',\n",
              " 'water',\n",
              " 'name',\n",
              " 'number',\n",
              " 'peopl',\n",
              " 'give']"
            ]
          },
          "metadata": {
            "tags": []
          },
          "execution_count": 13
        }
      ]
    },
    {
      "cell_type": "markdown",
      "metadata": {
        "id": "l2VoxprNdVXH"
      },
      "source": [
        "### 3. Build a machine learning pipeline\n",
        "This machine pipeline should take in the `message` column as input and output classification results on the other 36 categories in the dataset. You may find the [MultiOutputClassifier](http://scikit-learn.org/stable/modules/generated/sklearn.multioutput.MultiOutputClassifier.html) helpful for predicting multiple target variables."
      ]
    },
    {
      "cell_type": "code",
      "metadata": {
        "colab": {
          "base_uri": "https://localhost:8080/",
          "height": 0
        },
        "id": "1oRl9dXLdVXH",
        "outputId": "534441ed-6954-4bac-e75a-9f8e7e0d4582"
      },
      "source": [
        "fig,ax = plt.subplots(figsize=(20,15))\n",
        "Y.hist(ax=ax);"
      ],
      "execution_count": 14,
      "outputs": [
        {
          "output_type": "stream",
          "text": [
            "/usr/local/lib/python3.6/dist-packages/ipykernel_launcher.py:2: UserWarning: To output multiple subplots, the figure containing the passed axes is being cleared\n",
            "  \n"
          ],
          "name": "stderr"
        },
        {
          "output_type": "display_data",
          "data": {
            "image/png": "[encoded data removed]",
            "text/plain": [
              "<Figure size 1440x1080 with 36 Axes>"
            ]
          },
          "metadata": {
            "tags": [],
            "needs_background": "light"
          }
        }
      ]
    },
    {
      "cell_type": "code",
      "metadata": {
        "colab": {
          "base_uri": "https://localhost:8080/"
        },
        "id": "0DBNJueMdVXI",
        "outputId": "287dff77-5495-4989-9d6d-ec6388f2e10d"
      },
      "source": [
        "np.unique(Y[\"child_alone\"])"
      ],
      "execution_count": 15,
      "outputs": [
        {
          "output_type": "execute_result",
          "data": {
            "text/plain": [
              "array([0])"
            ]
          },
          "metadata": {
            "tags": []
          },
          "execution_count": 15
        }
      ]
    },
    {
      "cell_type": "code",
      "metadata": {
        "colab": {
          "base_uri": "https://localhost:8080/"
        },
        "id": "V2mtR788dVXI",
        "outputId": "2b35ded1-f3d2-4423-ec4c-6fe570cba2e4"
      },
      "source": [
        "np.unique(Y[\"related\"])"
      ],
      "execution_count": 16,
      "outputs": [
        {
          "output_type": "execute_result",
          "data": {
            "text/plain": [
              "array([0, 1, 2])"
            ]
          },
          "metadata": {
            "tags": []
          },
          "execution_count": 16
        }
      ]
    },
    {
      "cell_type": "code",
      "metadata": {
        "id": "6k1TM-U_dVXJ"
      },
      "source": [
        "X_train, X_test, y_train, y_test = train_test_split(X, Y, random_state = 42)"
      ],
      "execution_count": 17,
      "outputs": []
    },
    {
      "cell_type": "code",
      "metadata": {
        "id": "lXck7p9udVXJ"
      },
      "source": [
        "pipeline = Pipeline([\n",
        "        ('vect', CountVectorizer(tokenizer=tokenize)),\n",
        "        ('tfidf', TfidfTransformer()),\n",
        "        ('clf', MultiOutputClassifier(AdaBoostClassifier()))\n",
        "        ])"
      ],
      "execution_count": 18,
      "outputs": []
    },
    {
      "cell_type": "markdown",
      "metadata": {
        "id": "t7I0eSeRdVXK"
      },
      "source": [
        "### 4. Train pipeline\n",
        "- Split data into train and test sets\n",
        "- Train pipeline"
      ]
    },
    {
      "cell_type": "code",
      "metadata": {
        "colab": {
          "base_uri": "https://localhost:8080/"
        },
        "id": "aUiKDD1YdVXL",
        "outputId": "3fb02798-0353-4c96-f211-a37ffb8da757"
      },
      "source": [
        "pipeline.fit(X_train, y_train)"
      ],
      "execution_count": 19,
      "outputs": [
        {
          "output_type": "execute_result",
          "data": {
            "text/plain": [
              "Pipeline(memory=None,\n",
              "         steps=[('vect',\n",
              "                 CountVectorizer(analyzer='word', binary=False,\n",
              "                                 decode_error='strict',\n",
              "                                 dtype=<class 'numpy.int64'>, encoding='utf-8',\n",
              "                                 input='content', lowercase=True, max_df=1.0,\n",
              "                                 max_features=None, min_df=1,\n",
              "                                 ngram_range=(1, 1), preprocessor=None,\n",
              "                                 stop_words=None, strip_accents=None,\n",
              "                                 token_pattern='(?u)\\\\b\\\\w\\\\w+\\\\b',\n",
              "                                 tokenizer=<function tokenize at 0x7f7825082730>,\n",
              "                                 vocabulary=None)),\n",
              "                ('tfidf',\n",
              "                 TfidfTransformer(norm='l2', smooth_idf=True,\n",
              "                                  sublinear_tf=False, use_idf=True)),\n",
              "                ('clf',\n",
              "                 MultiOutputClassifier(estimator=AdaBoostClassifier(algorithm='SAMME.R',\n",
              "                                                                    base_estimator=None,\n",
              "                                                                    learning_rate=1.0,\n",
              "                                                                    n_estimators=50,\n",
              "                                                                    random_state=None),\n",
              "                                       n_jobs=None))],\n",
              "         verbose=False)"
            ]
          },
          "metadata": {
            "tags": []
          },
          "execution_count": 19
        }
      ]
    },
    {
      "cell_type": "markdown",
      "metadata": {
        "id": "UyLFrZSpdVXL"
      },
      "source": [
        "### 5. Test your model\n",
        "Report the f1 score, precision and recall for each output category of the dataset. You can do this by iterating through the columns and calling sklearn's `classification_report` on each."
      ]
    },
    {
      "cell_type": "code",
      "metadata": {
        "colab": {
          "base_uri": "https://localhost:8080/"
        },
        "id": "2wxzH-CpdVXL",
        "outputId": "ced11f39-bf47-4167-c017-7ef98c28bc4d"
      },
      "source": [
        "y_pred = pipeline.predict(X_test)\n",
        "y_pred"
      ],
      "execution_count": 20,
      "outputs": [
        {
          "output_type": "execute_result",
          "data": {
            "text/plain": [
              "array([[1, 0, 0, ..., 0, 0, 0],\n",
              "       [1, 0, 0, ..., 0, 0, 0],\n",
              "       [1, 0, 0, ..., 0, 0, 0],\n",
              "       ...,\n",
              "       [1, 0, 0, ..., 0, 0, 0],\n",
              "       [1, 0, 0, ..., 0, 0, 0],\n",
              "       [1, 0, 0, ..., 0, 0, 0]])"
            ]
          },
          "metadata": {
            "tags": []
          },
          "execution_count": 20
        }
      ]
    },
    {
      "cell_type": "code",
      "metadata": {
        "colab": {
          "base_uri": "https://localhost:8080/"
        },
        "id": "jH5oF_RrdVXM",
        "outputId": "e7be6975-c8e1-4167-b6df-b8eca45f6a0e"
      },
      "source": [
        "for i,col in enumerate(Y.columns):\n",
        "    print(f\"###################   {col}   ####################\")\n",
        "    print(classification_report(list(y_test.values[:, i]), list(y_pred[:, i])))"
      ],
      "execution_count": 21,
      "outputs": [
        {
          "output_type": "stream",
          "text": [
            "###################   related   ####################\n",
            "              precision    recall  f1-score   support\n",
            "\n",
            "           0       0.68      0.10      0.18      1563\n",
            "           1       0.77      0.98      0.86      4944\n",
            "           2       0.33      0.09      0.14        47\n",
            "\n",
            "    accuracy                           0.77      6554\n",
            "   macro avg       0.60      0.39      0.39      6554\n",
            "weighted avg       0.75      0.77      0.70      6554\n",
            "\n",
            "###################   request   ####################\n",
            "              precision    recall  f1-score   support\n",
            "\n",
            "           0       0.90      0.97      0.94      5443\n",
            "           1       0.77      0.50      0.61      1111\n",
            "\n",
            "    accuracy                           0.89      6554\n",
            "   macro avg       0.84      0.73      0.77      6554\n",
            "weighted avg       0.88      0.89      0.88      6554\n",
            "\n",
            "###################   offer   ####################\n",
            "              precision    recall  f1-score   support\n",
            "\n",
            "           0       0.99      1.00      1.00      6521\n",
            "           1       0.00      0.00      0.00        33\n",
            "\n",
            "    accuracy                           0.99      6554\n",
            "   macro avg       0.50      0.50      0.50      6554\n",
            "weighted avg       0.99      0.99      0.99      6554\n",
            "\n",
            "###################   aid_related   ####################\n",
            "              precision    recall  f1-score   support\n",
            "\n",
            "           0       0.77      0.86      0.81      3884\n",
            "           1       0.75      0.62      0.68      2670\n",
            "\n",
            "    accuracy                           0.76      6554\n",
            "   macro avg       0.76      0.74      0.74      6554\n",
            "weighted avg       0.76      0.76      0.76      6554\n",
            "\n",
            "###################   medical_help   ####################\n",
            "              precision    recall  f1-score   support\n",
            "\n",
            "           0       0.94      0.98      0.96      6019\n",
            "           1       0.56      0.25      0.35       535\n",
            "\n",
            "    accuracy                           0.92      6554\n",
            "   macro avg       0.75      0.62      0.65      6554\n",
            "weighted avg       0.91      0.92      0.91      6554\n",
            "\n",
            "###################   medical_products   ####################\n",
            "              precision    recall  f1-score   support\n",
            "\n",
            "           0       0.96      0.99      0.98      6210\n",
            "           1       0.66      0.35      0.46       344\n",
            "\n",
            "    accuracy                           0.96      6554\n",
            "   macro avg       0.81      0.67      0.72      6554\n",
            "weighted avg       0.95      0.96      0.95      6554\n",
            "\n",
            "###################   search_and_rescue   ####################\n",
            "              precision    recall  f1-score   support\n",
            "\n",
            "           0       0.98      1.00      0.99      6395\n",
            "           1       0.56      0.18      0.27       159\n",
            "\n",
            "    accuracy                           0.98      6554\n",
            "   macro avg       0.77      0.59      0.63      6554\n",
            "weighted avg       0.97      0.98      0.97      6554\n",
            "\n",
            "###################   security   ####################\n",
            "              precision    recall  f1-score   support\n",
            "\n",
            "           0       0.98      1.00      0.99      6438\n",
            "           1       0.27      0.05      0.09       116\n",
            "\n",
            "    accuracy                           0.98      6554\n",
            "   macro avg       0.63      0.52      0.54      6554\n",
            "weighted avg       0.97      0.98      0.97      6554\n",
            "\n",
            "###################   military   ####################\n",
            "              precision    recall  f1-score   support\n",
            "\n",
            "           0       0.98      0.99      0.99      6354\n",
            "           1       0.58      0.34      0.43       200\n",
            "\n",
            "    accuracy                           0.97      6554\n",
            "   macro avg       0.78      0.67      0.71      6554\n",
            "weighted avg       0.97      0.97      0.97      6554\n",
            "\n",
            "###################   child_alone   ####################\n",
            "              precision    recall  f1-score   support\n",
            "\n",
            "           0       1.00      1.00      1.00      6554\n",
            "\n",
            "    accuracy                           1.00      6554\n",
            "   macro avg       1.00      1.00      1.00      6554\n",
            "weighted avg       1.00      1.00      1.00      6554\n",
            "\n",
            "###################   water   ####################\n",
            "              precision    recall  f1-score   support\n",
            "\n",
            "           0       0.98      0.99      0.98      6136\n",
            "           1       0.76      0.68      0.72       418\n",
            "\n",
            "    accuracy                           0.97      6554\n",
            "   macro avg       0.87      0.83      0.85      6554\n",
            "weighted avg       0.96      0.97      0.97      6554\n",
            "\n",
            "###################   food   ####################\n",
            "              precision    recall  f1-score   support\n",
            "\n",
            "           0       0.96      0.98      0.97      5809\n",
            "           1       0.82      0.68      0.74       745\n",
            "\n",
            "    accuracy                           0.95      6554\n",
            "   macro avg       0.89      0.83      0.86      6554\n",
            "weighted avg       0.94      0.95      0.94      6554\n",
            "\n",
            "###################   shelter   ####################\n",
            "              precision    recall  f1-score   support\n",
            "\n",
            "           0       0.96      0.98      0.97      5973\n",
            "           1       0.76      0.59      0.66       581\n",
            "\n",
            "    accuracy                           0.95      6554\n",
            "   macro avg       0.86      0.78      0.82      6554\n",
            "weighted avg       0.94      0.95      0.94      6554\n",
            "\n",
            "###################   clothing   ####################\n",
            "              precision    recall  f1-score   support\n",
            "\n",
            "           0       0.99      1.00      0.99      6456\n",
            "           1       0.67      0.35      0.46        98\n",
            "\n",
            "    accuracy                           0.99      6554\n",
            "   macro avg       0.83      0.67      0.73      6554\n",
            "weighted avg       0.99      0.99      0.99      6554\n",
            "\n",
            "###################   money   ####################\n",
            "              precision    recall  f1-score   support\n",
            "\n",
            "           0       0.99      0.99      0.99      6421\n",
            "           1       0.44      0.28      0.34       133\n",
            "\n",
            "    accuracy                           0.98      6554\n",
            "   macro avg       0.71      0.64      0.66      6554\n",
            "weighted avg       0.97      0.98      0.98      6554\n",
            "\n",
            "###################   missing_people   ####################\n",
            "              precision    recall  f1-score   support\n",
            "\n",
            "           0       0.99      1.00      0.99      6481\n",
            "           1       0.43      0.08      0.14        73\n",
            "\n",
            "    accuracy                           0.99      6554\n",
            "   macro avg       0.71      0.54      0.57      6554\n",
            "weighted avg       0.98      0.99      0.98      6554\n",
            "\n",
            "###################   refugees   ####################\n",
            "              precision    recall  f1-score   support\n",
            "\n",
            "           0       0.98      0.99      0.98      6339\n",
            "           1       0.54      0.30      0.38       215\n",
            "\n",
            "    accuracy                           0.97      6554\n",
            "   macro avg       0.76      0.64      0.68      6554\n",
            "weighted avg       0.96      0.97      0.96      6554\n",
            "\n",
            "###################   death   ####################\n",
            "              precision    recall  f1-score   support\n",
            "\n",
            "           0       0.97      0.99      0.98      6257\n",
            "           1       0.73      0.40      0.52       297\n",
            "\n",
            "    accuracy                           0.97      6554\n",
            "   macro avg       0.85      0.70      0.75      6554\n",
            "weighted avg       0.96      0.97      0.96      6554\n",
            "\n",
            "###################   other_aid   ####################\n",
            "              precision    recall  f1-score   support\n",
            "\n",
            "           0       0.88      0.98      0.93      5690\n",
            "           1       0.52      0.14      0.22       864\n",
            "\n",
            "    accuracy                           0.87      6554\n",
            "   macro avg       0.70      0.56      0.57      6554\n",
            "weighted avg       0.83      0.87      0.84      6554\n",
            "\n",
            "###################   infrastructure_related   ####################\n",
            "              precision    recall  f1-score   support\n",
            "\n",
            "           0       0.94      0.99      0.97      6143\n",
            "           1       0.44      0.11      0.18       411\n",
            "\n",
            "    accuracy                           0.94      6554\n",
            "   macro avg       0.69      0.55      0.57      6554\n",
            "weighted avg       0.91      0.94      0.92      6554\n",
            "\n",
            "###################   transport   ####################\n",
            "              precision    recall  f1-score   support\n",
            "\n",
            "           0       0.96      0.99      0.98      6251\n",
            "           1       0.69      0.23      0.35       303\n",
            "\n",
            "    accuracy                           0.96      6554\n",
            "   macro avg       0.83      0.61      0.66      6554\n",
            "weighted avg       0.95      0.96      0.95      6554\n",
            "\n",
            "###################   buildings   ####################\n",
            "              precision    recall  f1-score   support\n",
            "\n",
            "           0       0.97      0.99      0.98      6231\n",
            "           1       0.68      0.36      0.47       323\n",
            "\n",
            "    accuracy                           0.96      6554\n",
            "   macro avg       0.82      0.67      0.72      6554\n",
            "weighted avg       0.95      0.96      0.95      6554\n",
            "\n",
            "###################   electricity   ####################\n",
            "              precision    recall  f1-score   support\n",
            "\n",
            "           0       0.98      1.00      0.99      6407\n",
            "           1       0.62      0.20      0.30       147\n",
            "\n",
            "    accuracy                           0.98      6554\n",
            "   macro avg       0.80      0.60      0.64      6554\n",
            "weighted avg       0.97      0.98      0.97      6554\n",
            "\n",
            "###################   tools   ####################\n",
            "              precision    recall  f1-score   support\n",
            "\n",
            "           0       0.99      1.00      1.00      6511\n",
            "           1       0.00      0.00      0.00        43\n",
            "\n",
            "    accuracy                           0.99      6554\n",
            "   macro avg       0.50      0.50      0.50      6554\n",
            "weighted avg       0.99      0.99      0.99      6554\n",
            "\n",
            "###################   hospitals   ####################\n",
            "              precision    recall  f1-score   support\n",
            "\n",
            "           0       0.99      1.00      0.99      6498\n",
            "           1       0.32      0.18      0.23        56\n",
            "\n",
            "    accuracy                           0.99      6554\n",
            "   macro avg       0.66      0.59      0.61      6554\n",
            "weighted avg       0.99      0.99      0.99      6554\n",
            "\n",
            "###################   shops   ####################\n",
            "              precision    recall  f1-score   support\n",
            "\n",
            "           0       1.00      1.00      1.00      6530\n",
            "           1       0.00      0.00      0.00        24\n",
            "\n",
            "    accuracy                           1.00      6554\n",
            "   macro avg       0.50      0.50      0.50      6554\n",
            "weighted avg       0.99      1.00      0.99      6554\n",
            "\n",
            "###################   aid_centers   ####################\n",
            "              precision    recall  f1-score   support\n",
            "\n",
            "           0       0.99      1.00      0.99      6473\n",
            "           1       0.15      0.04      0.06        81\n",
            "\n",
            "    accuracy                           0.99      6554\n",
            "   macro avg       0.57      0.52      0.53      6554\n",
            "weighted avg       0.98      0.99      0.98      6554\n",
            "\n",
            "###################   other_infrastructure   ####################\n",
            "              precision    recall  f1-score   support\n",
            "\n",
            "           0       0.96      0.99      0.98      6271\n",
            "           1       0.32      0.07      0.12       283\n",
            "\n",
            "    accuracy                           0.95      6554\n",
            "   macro avg       0.64      0.53      0.55      6554\n",
            "weighted avg       0.93      0.95      0.94      6554\n",
            "\n",
            "###################   weather_related   ####################\n",
            "              precision    recall  f1-score   support\n",
            "\n",
            "           0       0.89      0.95      0.92      4781\n",
            "           1       0.84      0.69      0.76      1773\n",
            "\n",
            "    accuracy                           0.88      6554\n",
            "   macro avg       0.87      0.82      0.84      6554\n",
            "weighted avg       0.88      0.88      0.88      6554\n",
            "\n",
            "###################   floods   ####################\n",
            "              precision    recall  f1-score   support\n",
            "\n",
            "           0       0.97      0.99      0.98      6035\n",
            "           1       0.85      0.59      0.70       519\n",
            "\n",
            "    accuracy                           0.96      6554\n",
            "   macro avg       0.91      0.79      0.84      6554\n",
            "weighted avg       0.96      0.96      0.96      6554\n",
            "\n",
            "###################   storm   ####################\n",
            "              precision    recall  f1-score   support\n",
            "\n",
            "           0       0.95      0.98      0.97      5949\n",
            "           1       0.72      0.50      0.59       605\n",
            "\n",
            "    accuracy                           0.94      6554\n",
            "   macro avg       0.83      0.74      0.78      6554\n",
            "weighted avg       0.93      0.94      0.93      6554\n",
            "\n",
            "###################   fire   ####################\n",
            "              precision    recall  f1-score   support\n",
            "\n",
            "           0       0.99      1.00      0.99      6488\n",
            "           1       0.47      0.24      0.32        66\n",
            "\n",
            "    accuracy                           0.99      6554\n",
            "   macro avg       0.73      0.62      0.66      6554\n",
            "weighted avg       0.99      0.99      0.99      6554\n",
            "\n",
            "###################   earthquake   ####################\n",
            "              precision    recall  f1-score   support\n",
            "\n",
            "           0       0.98      0.99      0.98      5964\n",
            "           1       0.89      0.78      0.83       590\n",
            "\n",
            "    accuracy                           0.97      6554\n",
            "   macro avg       0.93      0.88      0.91      6554\n",
            "weighted avg       0.97      0.97      0.97      6554\n",
            "\n",
            "###################   cold   ####################\n",
            "              precision    recall  f1-score   support\n",
            "\n",
            "           0       0.99      1.00      0.99      6413\n",
            "           1       0.70      0.36      0.48       141\n",
            "\n",
            "    accuracy                           0.98      6554\n",
            "   macro avg       0.84      0.68      0.73      6554\n",
            "weighted avg       0.98      0.98      0.98      6554\n",
            "\n",
            "###################   other_weather   ####################\n",
            "              precision    recall  f1-score   support\n",
            "\n",
            "           0       0.96      0.99      0.97      6219\n",
            "           1       0.47      0.17      0.25       335\n",
            "\n",
            "    accuracy                           0.95      6554\n",
            "   macro avg       0.71      0.58      0.61      6554\n",
            "weighted avg       0.93      0.95      0.94      6554\n",
            "\n",
            "###################   direct_report   ####################\n",
            "              precision    recall  f1-score   support\n",
            "\n",
            "           0       0.86      0.95      0.91      5282\n",
            "           1       0.66      0.38      0.48      1272\n",
            "\n",
            "    accuracy                           0.84      6554\n",
            "   macro avg       0.76      0.67      0.69      6554\n",
            "weighted avg       0.83      0.84      0.82      6554\n",
            "\n"
          ],
          "name": "stdout"
        }
      ]
    },
    {
      "cell_type": "markdown",
      "metadata": {
        "id": "tAXCTA6OdVXM"
      },
      "source": [
        "### 6. Improve your model\n",
        "Use grid search to find better parameters. "
      ]
    },
    {
      "cell_type": "code",
      "metadata": {
        "colab": {
          "base_uri": "https://localhost:8080/"
        },
        "id": "1-o3VKFrdVXM",
        "outputId": "99609099-5bf1-4721-ea87-622001613e3a"
      },
      "source": [
        "pipeline.get_params()"
      ],
      "execution_count": 22,
      "outputs": [
        {
          "output_type": "execute_result",
          "data": {
            "text/plain": [
              "{'clf': MultiOutputClassifier(estimator=AdaBoostClassifier(algorithm='SAMME.R',\n",
              "                                                    base_estimator=None,\n",
              "                                                    learning_rate=1.0,\n",
              "                                                    n_estimators=50,\n",
              "                                                    random_state=None),\n",
              "                       n_jobs=None),\n",
              " 'clf__estimator': AdaBoostClassifier(algorithm='SAMME.R', base_estimator=None, learning_rate=1.0,\n",
              "                    n_estimators=50, random_state=None),\n",
              " 'clf__estimator__algorithm': 'SAMME.R',\n",
              " 'clf__estimator__base_estimator': None,\n",
              " 'clf__estimator__learning_rate': 1.0,\n",
              " 'clf__estimator__n_estimators': 50,\n",
              " 'clf__estimator__random_state': None,\n",
              " 'clf__n_jobs': None,\n",
              " 'memory': None,\n",
              " 'steps': [('vect',\n",
              "   CountVectorizer(analyzer='word', binary=False, decode_error='strict',\n",
              "                   dtype=<class 'numpy.int64'>, encoding='utf-8', input='content',\n",
              "                   lowercase=True, max_df=1.0, max_features=None, min_df=1,\n",
              "                   ngram_range=(1, 1), preprocessor=None, stop_words=None,\n",
              "                   strip_accents=None, token_pattern='(?u)\\\\b\\\\w\\\\w+\\\\b',\n",
              "                   tokenizer=<function tokenize at 0x7f7825082730>,\n",
              "                   vocabulary=None)),\n",
              "  ('tfidf',\n",
              "   TfidfTransformer(norm='l2', smooth_idf=True, sublinear_tf=False, use_idf=True)),\n",
              "  ('clf',\n",
              "   MultiOutputClassifier(estimator=AdaBoostClassifier(algorithm='SAMME.R',\n",
              "                                                      base_estimator=None,\n",
              "                                                      learning_rate=1.0,\n",
              "                                                      n_estimators=50,\n",
              "                                                      random_state=None),\n",
              "                         n_jobs=None))],\n",
              " 'tfidf': TfidfTransformer(norm='l2', smooth_idf=True, sublinear_tf=False, use_idf=True),\n",
              " 'tfidf__norm': 'l2',\n",
              " 'tfidf__smooth_idf': True,\n",
              " 'tfidf__sublinear_tf': False,\n",
              " 'tfidf__use_idf': True,\n",
              " 'vect': CountVectorizer(analyzer='word', binary=False, decode_error='strict',\n",
              "                 dtype=<class 'numpy.int64'>, encoding='utf-8', input='content',\n",
              "                 lowercase=True, max_df=1.0, max_features=None, min_df=1,\n",
              "                 ngram_range=(1, 1), preprocessor=None, stop_words=None,\n",
              "                 strip_accents=None, token_pattern='(?u)\\\\b\\\\w\\\\w+\\\\b',\n",
              "                 tokenizer=<function tokenize at 0x7f7825082730>,\n",
              "                 vocabulary=None),\n",
              " 'vect__analyzer': 'word',\n",
              " 'vect__binary': False,\n",
              " 'vect__decode_error': 'strict',\n",
              " 'vect__dtype': numpy.int64,\n",
              " 'vect__encoding': 'utf-8',\n",
              " 'vect__input': 'content',\n",
              " 'vect__lowercase': True,\n",
              " 'vect__max_df': 1.0,\n",
              " 'vect__max_features': None,\n",
              " 'vect__min_df': 1,\n",
              " 'vect__ngram_range': (1, 1),\n",
              " 'vect__preprocessor': None,\n",
              " 'vect__stop_words': None,\n",
              " 'vect__strip_accents': None,\n",
              " 'vect__token_pattern': '(?u)\\\\b\\\\w\\\\w+\\\\b',\n",
              " 'vect__tokenizer': <function __main__.tokenize>,\n",
              " 'vect__vocabulary': None,\n",
              " 'verbose': False}"
            ]
          },
          "metadata": {
            "tags": []
          },
          "execution_count": 22
        }
      ]
    },
    {
      "cell_type": "code",
      "metadata": {
        "colab": {
          "base_uri": "https://localhost:8080/"
        },
        "id": "Qp8LESOSdVXM",
        "outputId": "70743555-d27e-464d-e074-5a65a02d2b18"
      },
      "source": [
        "# find the best parameters\n",
        "parameters = {'tfidf__use_idf':[True, False],\n",
        "              'clf__estimator__n_estimators':[50, 100, 200, 250],\n",
        "              'clf__estimator__learning_rate':[0.5,1.0,1.5]}\n",
        "\n",
        "cv = GridSearchCV(estimator=pipeline, param_grid=parameters,verbose=3)\n",
        "cv.fit(X_train, y_train)"
      ],
      "execution_count": null,
      "outputs": [
        {
          "output_type": "stream",
          "text": [
            "Fitting 5 folds for each of 24 candidates, totalling 120 fits\n",
            "[CV] clf__estimator__learning_rate=0.5, clf__estimator__n_estimators=50, tfidf__use_idf=True \n"
          ],
          "name": "stdout"
        },
        {
          "output_type": "stream",
          "text": [
            "[Parallel(n_jobs=1)]: Using backend SequentialBackend with 1 concurrent workers.\n"
          ],
          "name": "stderr"
        }
      ]
    },
    {
      "cell_type": "code",
      "metadata": {
        "id": "LRy6NeSadVXN"
      },
      "source": [
        "# best estimator\n",
        "cv.best_estimator_"
      ],
      "execution_count": null,
      "outputs": []
    },
    {
      "cell_type": "markdown",
      "metadata": {
        "id": "rrpAUKV5dVXN"
      },
      "source": [
        "### 7. Test your model\n",
        "Show the accuracy, precision, and recall of the tuned model.  \n",
        "\n",
        "Since this project focuses on code quality, process, and  pipelines, there is no minimum performance metric needed to pass. However, make sure to fine tune your models for accuracy, precision and recall to make your project stand out - especially for your portfolio!"
      ]
    },
    {
      "cell_type": "code",
      "metadata": {
        "id": "wDQ4RBU5dVXN"
      },
      "source": [
        "y_pred = cv.predict(X_test)\n",
        "\n",
        "for i,col in enumerate(Y.columns):\n",
        "    print(f\"###################   {col}   ####################\")\n",
        "    print(classification_report(list(y_test.values[:, i]), list(y_pred[:, i])))"
      ],
      "execution_count": null,
      "outputs": []
    },
    {
      "cell_type": "code",
      "metadata": {
        "id": "FEJzuQgXurY2"
      },
      "source": [
        ""
      ],
      "execution_count": null,
      "outputs": []
    },
    {
      "cell_type": "markdown",
      "metadata": {
        "id": "XMvGYMYMdVXN"
      },
      "source": [
        "### 8. Try improving your model further. Here are a few ideas:\n",
        "* try other machine learning algorithms\n",
        "* add other features besides the TF-IDF"
      ]
    },
    {
      "cell_type": "code",
      "metadata": {
        "id": "MStwHsjydVXO"
      },
      "source": [
        ""
      ],
      "execution_count": null,
      "outputs": []
    },
    {
      "cell_type": "markdown",
      "metadata": {
        "id": "bBYmksxWdVXO"
      },
      "source": [
        "### 9. Export your model as a pickle file"
      ]
    },
    {
      "cell_type": "code",
      "metadata": {
        "id": "FXG-BAtDdVXO"
      },
      "source": [
        "pickle.dump(cv, open('/content/drive/MyDrive/Udacity/model.pkl', 'wb'))"
      ],
      "execution_count": null,
      "outputs": []
    },
    {
      "cell_type": "markdown",
      "metadata": {
        "id": "JuesRR4adVXO"
      },
      "source": [
        "### 10. Use this notebook to complete `train.py`\n",
        "Use the template file attached in the Resources folder to write a script that runs the steps above to create a database and export a model based on a new dataset specified by the user."
      ]
    },
    {
      "cell_type": "code",
      "metadata": {
        "id": "-IStEF4QdVXO"
      },
      "source": [
        ""
      ],
      "execution_count": null,
      "outputs": []
    }
  ]
}